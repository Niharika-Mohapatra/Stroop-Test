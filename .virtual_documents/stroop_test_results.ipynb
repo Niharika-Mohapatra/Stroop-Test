#Importing libraries
import pandas as pd 
import numpy as np

import scipy
from scipy.stats import ttest_ind
from scipy.stats import ttest_rel
from scipy.stats import wilcoxon
from scipy.stats import ttest_1samp
from scipy.stats import linregress

import matplotlib.pyplot as plt
from matplotlib.pyplot import subplots
import seaborn as sns

import sklearn as sk
from sklearn.linear_model import LogisticRegression





#Creating dataframe
df = pd.read_csv("stroop_results_final.csv") 
df = df.drop(columns=df.columns[0])
df["is_correct"] = df["is_correct"].astype(int)

#Checking for missing data
assert not df.isnull().values.any(), "Missing values found in the dataset."

print(df.columns)
print(f"Total number of results: {len(df)}")





#Modifying dataframe 

#Dividing based on id
df["participant_id"] = df.index // 20

#Adding congruent column
df["is_congruent"] = df["word"].str.lower() == df["color"]
df["is_congruent"] = df["is_congruent"].astype(int)

#Filtering invalid values 
df = df[(df["reaction_time"] >= 200) & (df["reaction_time"] <= 3000)]

#Modified dataframe
print(df.head())
print(len(df))





# Mean, median, standard deviation, percentage accuracy
reaction_times = df["reaction_time"]
mean_rt = np.mean(reaction_times)
median_rt = np.median(reaction_times)
std_rt = np.std(reaction_times)

accuracy = df["is_correct"].mean() * 100

print(f"Mean Reaction Time: {mean_rt:.3f} ms")
print(f"Median Reaction Time: {median_rt:.3f} ms")
print(f"Standard Deviation: {std_rt:.3f} ms")
print(f"Percentage Accuracy (Ungrouped): {accuracy:.3f}%")


# Histogram of raw data
plt.figure(figsize=(10, 5))
sns.histplot(df["reaction_time"], bins=50, kde=True, color="#3776ab")
plt.axvline(mean_rt, color="red", linestyle='--', label='Mean')
plt.axvline(median_rt, color="green", linestyle='--', label='Median')
plt.xlabel("Reaction Time (ms)")
plt.ylabel("Frequency")
plt.title("Distribution of Reaction Times")
plt.legend()
plt.show() 


# Boxplot of raw data
plt.figure(figsize=(4, 6))
sns.boxplot(y=df["reaction_time"], color="#3776ab")
plt.ylabel("Reaction Time (ms)")
plt.title("Boxplot of Reaction Times")
plt.show()





# Summary stats per participant
participant_summary = df.groupby("participant_id").agg(
    mean_rt=("reaction_time", "mean"),
    std_rt=("reaction_time", "std"),
    accuracy=("is_correct", "mean")
).reset_index() 
print(participant_summary) 














# Means of reaction times for congruent and incongruent stimuli per participant
congruent_means = df[df["is_congruent"] == 1].groupby("participant_id")["reaction_time"].mean()
incongruent_means = df[df["is_congruent"] == 0].groupby("participant_id")["reaction_time"].mean()
print(congruent_means, incongruent_means)





# Ensuring both groups have the same participants
valid_participants = congruent_means.index.intersection(incongruent_means.index)

congruent_means = congruent_means.loc[valid_participants]
incongruent_means = incongruent_means.loc[valid_participants]


# Paired t-test
t_stat, p_value = ttest_rel(incongruent_means, congruent_means)
print(f"Paired T-Test: t = {t_stat:.3f}, p = {p_value:.3f}") 

# Run Wilcoxon test
w_stat, p_val = wilcoxon(incongruent_means, congruent_means)
print(f"Wilcoxon test: W = {w_stat:.3f}, p = {p_val:.3f}")








#Boxplots of congruent vs incongruent stimuli results
grouped = df.groupby(['participant_id', 'is_congruent'])['reaction_time'].mean().reset_index()

sns.boxplot(x='is_congruent', y='reaction_time', data=grouped, order=[1,0], hue="is_congruent", palette=["#f18973", "#2972b6"])

plt.title("Mean Reaction Time per Participant by Congruency of Stimuli")
plt.ylabel("Mean Reaction Time (ms)")

plt.xticks([0, 1], ["Congruent", "Incongruent"])

plt.xlabel("")
plt.grid(True, linestyle='--', alpha=0.4)
plt.show()








# Reaction times for congruent vs incongruent stimuli
congruent_rt = df[df["is_congruent"] == 1]["reaction_time"]
incongruent_rt = df[df["is_congruent"] == 0]["reaction_time"]





#Histograms of congruent vs incongruent stimuli results
plt.figure(figsize=(10, 5))
sns.histplot(congruent_rt, bins=50, color="#2972b6", label="Congruent", kde=True, alpha=1.0)
sns.histplot(incongruent_rt, bins=50, color="#f18973", label="Incongruent", kde=True)
plt.title("Distribution of Reaction Times: Congruent vs Incongruent")
plt.xlabel("Reaction Time (ms)")
plt.ylabel("Frequency")
plt.grid(True, linestyle='--', alpha=0.4)
plt.legend()
plt.show()


# Independent t-test
t_stat, p_value = ttest_ind(incongruent_rt, congruent_rt)
print(f"Independent T-test: t = {t_stat:.2f}, p = {p_value:.3f}")








# Boxplot for response to congruent vs incongruent stimuli
sns.boxplot(x='is_congruent', y='reaction_time', data=df, order=[1,0], hue="is_congruent", palette=["#f18973", "#2972b6"])
plt.title("Reaction Time by Condition")
plt.ylabel("Reaction Time (ms)")
plt.xticks([0, 1], ["Congruent", "Incongruent"])
plt.xlabel("")
plt.show()

















#Correlation between reaction time and accuracy per participant
corr2 = participant_summary["mean_rt"].corr(participant_summary["accuracy"])
print(f"Participant-level correlation between reaction time and accuracy: {corr2:.3f}")





#Scatter plot
sns.scatterplot(data=participant_summary, x="mean_rt", y="accuracy", color="#3776ab")
plt.title("Accuracy vs. Reaction Time (per participant)")
plt.xlabel("Mean Reaction Time (ms)")
plt.ylabel("Mean Accuracy")
plt.grid(True, linestyle="--", alpha=0.4)
plt.show()








#Correlation between reaction time and accuracy
corr1 = df['reaction_time'].corr(df['is_correct'])
print(f"Trial-level correlation between reaction time and accuracy: {corr1:.3f}")


#Boxplot
sns.boxplot(x='is_correct', y='reaction_time', data=df, order=[1,0], hue="is_correct", palette=["#f18973", "#2972b6"])
plt.title("Reaction Time by Accuracy")
plt.xticks([0, 1], ["Correct", "Incorrect"])
plt.ylabel("Reaction Time (ms)")
plt.xlabel("")
plt.grid(True, linestyle='--', alpha=0.4)
plt.show() 








# Assigning trial number to each row within each participant
df["trial_index"] = df.groupby("participant_id").cumcount() + 1


# Graphing trends for each participant
participant_ids = sorted(df['participant_id'].unique())
n_participants = len(participant_ids)

n_cols = 5
n_rows = (n_participants + n_cols - 1) // n_cols  # Round up
fig, axes = plt.subplots(n_rows, n_cols, figsize=(n_cols * 3, n_rows * 2.5), sharex=True, sharey=True)

axes = axes.flatten()

for i, pid in enumerate(participant_ids):
    ax = axes[i]
    participant_data = df[df['participant_id'] == pid]
    
    ax.plot(participant_data['trial_index'], participant_data['reaction_time'],
            marker='o', linestyle='-', color="#3776ab", alpha=0.7, markersize=2)
    
    ax.set_title(f"Participant {pid + 1}", fontsize=8)
    ax.tick_params(axis='both', labelsize=7)

# Remove unused subplots
for j in range(i+1, len(axes)):
    fig.delaxes(axes[j])

fig.suptitle("Reaction Time Trends Per Participant", fontsize=14)
plt.tight_layout(rect=[0, 0, 1, 0.97])  # leave space for suptitle
plt.show() 


# Slope of each participant


slopes = []
for pid, group in df.groupby("participant_id"):
    slope, _, _, _, _ = linregress(group["trial_index"], group["reaction_time"])
    slopes.append({"participant_id": pid, "slope": slope})

trend_df = pd.DataFrame(slopes)
print(trend_df.head())


num_faster = (trend_df["slope"] < 0).sum()
num_slower = (trend_df["slope"] > 0).sum()

print(f"Participants getting faster: {num_faster}")
print(f"Participants getting slower: {num_slower}")


# One sample t-test

t_stat, p_value = ttest_1samp(trend_df["slope"], 0)
print(f"One-sample t-test on slopes: t = {t_stat:.3f}, p = {p_value:.3f}")


# Histogram of trend slopes

plt.figure(figsize=(8, 5))
plt.hist(trend_df["slope"], bins=15, color="#2972b6", edgecolor="black", alpha=0.7)
plt.axvline(0, color="red", linestyle="--")
plt.title("Distribution of RT Trend Slopes Across Participants")
plt.xlabel("Slope (ms per trial)")
plt.ylabel("Number of Participants")
plt.axvline(trend_df["slope"].mean(), color="green", linestyle="--", label="Mean Slope")
plt.legend()
plt.show()











# Participant level logistic regressiom
slopes = []

for pid, group in df.groupby("participant_id"):
    X = group["trial_index"].values.reshape(-1, 1)
    y = group["is_correct"].values

    if len(np.unique(y)) < 2: # Only includes participants with both correct and incorrect answers
        continue
    
    model = LogisticRegression(solver="liblinear")  
    model.fit(X, y)
    slope = model.coef_[0][0]
    slopes.append({"participant_id": pid, "slope": slope})
   

accuracy_trend_df = pd.DataFrame(slopes).dropna() 


# One-sample t-test on per-participant slopes
t_stat, p_val = ttest_1samp(accuracy_trend_df["slope"], 0)
print(f"Participant-level slope t-test: t = {t_stat:.3f}, p = {p_val:.3f}")





# Pooled logistic regression
X_all = df["trial_index"].values.reshape(-1, 1)
y_all = df["is_correct"].values

model_all = LogisticRegression(solver="liblinear")
model_all.fit(X_all, y_all)

print(f"Pooled slope: {model_all.coef_[0][0]:.4f}")
print(f"Intercept: {model_all.intercept_[0]:.4f}")





# Histogram for accuracy trend across participants
plt.hist(accuracy_trend_df["slope"], bins=15, color="#f18973", edgecolor="black")
plt.axvline(0, color="red", linestyle="--", label="Zero slope")
plt.axvline(accuracy_trend_df["slope"].mean(), color="green", linestyle="--", label="Mean slope")
plt.title("Accuracy Trend Slopes Across Participants")
plt.xlabel("Logistic Regression Slope (Trial → Accuracy)")
plt.ylabel("Number of Participants")
plt.legend()
plt.show()








# Create confusion matrix
conf_matrix = pd.crosstab(df["color"], df["response"])

# Optional: normalize by row to get proportions
conf_matrix_normalized = conf_matrix.div(conf_matrix.sum(axis=1), axis=0)



# Heatmap of font colour vs response
plt.figure(figsize=(6, 5))
sns.heatmap(conf_matrix_normalized, annot=True, fmt=".2f", cmap="managua")
plt.title("Confusion Matrix: Font Color vs Response")
plt.xlabel("Responded As")
plt.ylabel("Actual Font Color")
plt.show()




